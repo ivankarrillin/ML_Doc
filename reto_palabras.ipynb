{
  "nbformat": 4,
  "nbformat_minor": 0,
  "metadata": {
    "colab": {
      "provenance": [],
      "authorship_tag": "ABX9TyNCzDw8j4dhwdbiLMzC5F6q"
    },
    "kernelspec": {
      "name": "python3",
      "display_name": "Python 3"
    },
    "language_info": {
      "name": "python"
    }
  },
  "cells": [
    {
      "cell_type": "code",
      "execution_count": null,
      "metadata": {
        "colab": {
          "base_uri": "https://localhost:8080/"
        },
        "id": "ZeUXZGeMIzXN",
        "outputId": "d42438aa-6a58-49f3-ee9b-a84165197464"
      },
      "outputs": [
        {
          "output_type": "stream",
          "name": "stdout",
          "text": [
            "['razón', 'corazón', 'perdón', 'maldición', 'avión', 'información', 'habitación', 'atención', 'situación', 'misión', 'dirección', 'decisión', 'posición', 'reunión', 'relación', 'investigación', 'estación', 'canción', 'prisión', 'acción', 'camión', 'montón', 'opinión', 'opción', 'operación', 'cabrón', 'presión', 'cuestión', 'televisión', 'millón', 'protección', 'sección', 'elección', 'campeón', 'conversación', 'ladrón', 'intención', 'tensión', 'salón', 'tripulación', 'explosión', 'nación', 'explicación', 'visión', 'diversión', 'solución', 'conexión', 'lección', 'dragón', 'botón', 'educación', 'identificación', 'declaración', 'impresión', 'reputación', 'sensación', 'pasión', 'reacción', 'condición', 'cinturón', 'destrucción', 'ocasión', 'imaginación', 'japón', 'napoleón', 'tiburón', 'organización', 'infección', 'división', 'patrón', 'unión', 'cañón', 'comunicación', 'transmisión', 'función', 'versión', 'construcción', 'actuación', 'respiración', 'revolución', 'sesión', 'emoción', 'autorización', 'colección', 'maricón', 'escuadrón', 'recepción', 'traición', 'tradición', 'guión', 'religión', 'invitación', 'ubicación', 'traducción', 'expresión', 'exposición', 'confesión', 'producción', 'preocupación', 'compasión', 'administración', 'graduación', 'generación', 'formación', 'presentación', 'bendición', 'posesión', 'civilización', 'violación', 'comisión', 'objeción', 'león', 'discusión', 'poción', 'fusión']\n",
            "Número de coincidencias:  115\n"
          ]
        }
      ],
      "source": [
        "#variable que guarda el archivo de texto\n",
        "texto=[]\n",
        "\n",
        "#lectura del archivo\n",
        "with open('5000_palabras_comunes.txt', 'r') as archivo:\n",
        "    for linea in archivo:\n",
        "        texto.append(linea.strip())\n",
        "\n",
        "\n",
        "# función para encontrar palabras que riman\n",
        "def rima(palabra):\n",
        "  k=0\n",
        "  coincide=[]\n",
        "  for i in range(len(texto)):\n",
        "    if(texto[i].endswith(palabra)):\n",
        "      k=k+1\n",
        "      coincide.append(texto[i])\n",
        "  if k==0:\n",
        "    print(\"Sin coincidencias\")\n",
        "  else:\n",
        "    print(coincide)\n",
        "    print('Número de coincidencias: ',k)\n",
        "\n",
        "# llamado de la función\n",
        "rima('ón')\n"
      ]
    },
    {
      "cell_type": "markdown",
      "source": [
        "# Tutorial de Pandas"
      ],
      "metadata": {
        "id": "SRu3ks-P9s-U"
      }
    },
    {
      "cell_type": "code",
      "source": [
        "import pandas as pd\n",
        "\n",
        "df = pd.DataFrame({'name':['Bob','Jen','Tim'],\n",
        "                   'age':[20,30,40],\n",
        "                   'pet':['cat', 'dog', 'bird']})\n",
        "\n",
        "print(df)\n"
      ],
      "metadata": {
        "id": "IJkIXFVu66st",
        "outputId": "9f0dbf33-92d2-4943-97d1-c3d88c1edb39",
        "colab": {
          "base_uri": "https://localhost:8080/"
        }
      },
      "execution_count": 1,
      "outputs": [
        {
          "output_type": "stream",
          "name": "stdout",
          "text": [
            "  name  age   pet\n",
            "0  Bob   20   cat\n",
            "1  Jen   30   dog\n",
            "2  Tim   40  bird\n"
          ]
        }
      ]
    },
    {
      "cell_type": "code",
      "source": [
        "import random\n",
        "\n",
        "def generar_consonantes(longitud):\n",
        "    # Lista de consonantes (puedes agregar más si es necesario)\n",
        "    consonantes = \"bcdfghjklmnpqrstvwxyzBCDFGHJKLMNPQRSTVWXYZ\"\n",
        "    letras=\"aeiou\"\n",
        "\n",
        "    # Generar una cadena aleatoria de consonantes\n",
        "    cadena_aleatoria = ''.join(random.choice(consonantes) for _ in range(longitud))\n",
        "\n",
        "    return cadena_aleatoria\n",
        "\n",
        "# Ejemplo de uso\n",
        "longitud = 2  # Longitud de la cadena de consonantes\n",
        "resultado = generar_consonantes(longitud)\n",
        "print(resultado)"
      ],
      "metadata": {
        "colab": {
          "base_uri": "https://localhost:8080/"
        },
        "id": "z9Xj1yd7R4FX",
        "outputId": "25413636-7838-427e-95ab-77b02162fd4a"
      },
      "execution_count": null,
      "outputs": [
        {
          "output_type": "stream",
          "name": "stdout",
          "text": [
            "F\n"
          ]
        }
      ]
    },
    {
      "cell_type": "code",
      "source": [],
      "metadata": {
        "id": "xXK7ccmjSvTb"
      },
      "execution_count": null,
      "outputs": []
    },
    {
      "cell_type": "markdown",
      "source": [
        "tarea revisar numpy y maplotlib"
      ],
      "metadata": {
        "id": "2bg3OHNvSsfQ"
      }
    }
  ]
}