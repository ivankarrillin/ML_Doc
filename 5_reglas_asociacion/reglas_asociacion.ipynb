{
  "cells": [
    {
      "cell_type": "markdown",
      "metadata": {},
      "source": [
        "Implemente utilizando Polars los siguientes algoritmos para encontrar reglas de asociación:· \n",
        "\n",
        "·        Apriori\n",
        "\n",
        "·         FP-Growth\n",
        "\n",
        "Compare ambos algoritmos con el mismo conjunto de datos\n",
        "\n"
      ]
    },
    {
      "cell_type": "markdown",
      "metadata": {
        "id": "kfuHgVUAIFvE"
      },
      "source": [
        "## Reglas de asociación\n",
        "\n",
        "1 {a,b,c}\n",
        "\n",
        "2 {a,b}\n",
        "\n",
        "3 {a,c,d}\n",
        "\n",
        "4 {a}\n",
        "\n",
        "5 {b,c}\n",
        "\n",
        "6 {b,c,d}\n",
        "\n",
        "a continuación el algoritmo para la probabilidad condicional superior al 50% del anterior conjunto de datos\n"
      ]
    },
    {
      "cell_type": "code",
      "execution_count": null,
      "metadata": {
        "colab": {
          "base_uri": "https://localhost:8080/"
        },
        "id": "nFAgErzhIPLB",
        "outputId": "634cb0d1-9e35-4649-de5a-98b68a1ce3f6"
      },
      "outputs": [
        {
          "name": "stdout",
          "output_type": "stream",
          "text": [
            "prob de: {a} -> {b} = 0.5\n",
            "prob de: {a} -> {c} = 0.5\n",
            "prob de: {a} -> {d} = 0.5\n",
            "prob de: {b} -> {a} = 0.5\n",
            "prob de: {b} -> {c} = 0.75\n",
            "prob de: {b} -> {d} = 0.5\n",
            "prob de: {c} -> {a} = 0.5\n",
            "prob de: {c} -> {b} = 0.75\n",
            "prob de: {c} -> {d} = 1.0\n",
            "prob de: {d} -> {a} = 0.25\n",
            "prob de: {d} -> {b} = 0.25\n",
            "prob de: {d} -> {c} = 0.5\n"
          ]
        }
      ],
      "source": [
        "#pip install polar\n",
        "import polars as pl\n",
        "\n",
        "df = pl.DataFrame({\n",
        "    \"a\": [1,1,1,1,0,0],\n",
        "    \"b\": [1,1,0,0,1,1],\n",
        "    \"c\": [1,0,1,0,1,1],\n",
        "    \"d\":[0,0,1,0,0,1]\n",
        "})\n",
        "\n",
        "def proba(p1,p2):\n",
        "  pr=df.filter((df[p1]==1) & (df[p2]==1))\n",
        "  pc=pr.shape[0]/df[p2].sum()\n",
        "  return \"prob de: {\"+p1+\"} -> {\"+p2+\"} = \"+str(pc)\n",
        "\n",
        "\n",
        "print(proba(\"a\",\"b\"))\n",
        "print(proba(\"a\",\"c\"))\n",
        "print(proba(\"a\",\"d\"))\n",
        "\n",
        "print(proba(\"b\",\"a\"))\n",
        "print(proba(\"b\",\"c\"))\n",
        "print(proba(\"b\",\"d\"))\n",
        "\n",
        "\n",
        "print(proba(\"c\",\"a\"))\n",
        "print(proba(\"c\",\"b\"))\n",
        "print(proba(\"c\",\"d\"))\n",
        "\n",
        "print(proba(\"d\",\"a\"))\n",
        "print(proba(\"d\",\"b\"))\n",
        "print(proba(\"d\",\"c\"))\n",
        "\n"
      ]
    },
    {
      "cell_type": "code",
      "execution_count": null,
      "metadata": {
        "colab": {
          "base_uri": "https://localhost:8080/"
        },
        "id": "sdwW3UapKOZX",
        "outputId": "d8472fc4-9093-45e5-f7f9-00878a088830"
      },
      "outputs": [
        {
          "name": "stdout",
          "output_type": "stream",
          "text": [
            "P(['m']/['a', 'c'])=1.0\n",
            "Tiempo de ejecución: 0.005902 segundos\n"
          ]
        }
      ],
      "source": [
        "#pip install polar\n",
        "import polars as pl\n",
        "import time\n",
        "\n",
        "start_time = time.perf_counter()\n",
        "\n",
        "df = pl.DataFrame({\n",
        "    \"a\": [1,1,0,0,1],\n",
        "    \"b\": [0,1,1,1,0],\n",
        "    \"c\": [1,1,0,1,1],\n",
        "    \"d\": [1,0,0,0,0],\n",
        "    \"e\": [0,0,0,0,1],\n",
        "    \"f\": [1,1,1,0,1],\n",
        "    \"g\": [1,0,0,0,0],\n",
        "    \"h\": [0,0,1,0,0],\n",
        "    \"i\": [1,0,0,0,0],\n",
        "    \"j\": [0,0,1,0,0],\n",
        "    \"k\": [0,0,1,0,0],\n",
        "    \"l\": [0,1,0,0,1],\n",
        "    \"m\": [1,1,0,0,1],\n",
        "    \"o\": [0,1,1,0,0],\n",
        "    \"p\": [1,0,0,1,1]\n",
        "})\n",
        "\n",
        "#función que retorna la cantidad de veces que las letras estan ocurriendo en un mismo vector columna\n",
        "def proba(letras):\n",
        "  pr=df.select(letras)\n",
        "  aa = pr.with_columns((pl.struct(pl.all()).map_elements(lambda row: len(set(row.values())) == 1, return_dtype=pl.Boolean)).alias(\"igual\"))\n",
        "  bb=aa.filter(aa[\"igual\"])\n",
        "  return bb.shape[0]\n",
        "\n",
        "\n",
        "#probabilidad condicionada\n",
        "numerador=['m']\n",
        "denominador=['a','c']\n",
        "\n",
        "print(\"P(\"+str(numerador)+'/'+str(denominador)+')='+str(proba(numerador+denominador)/proba(denominador)))\n",
        "\n",
        "#parte de código que da el tiempo de ejecución\n",
        "end_time = time.perf_counter()\n",
        "elapsed_time = end_time - start_time\n",
        "print(f\"Tiempo de ejecución: {elapsed_time:.6f} segundos\")\n"
      ]
    },
    {
      "cell_type": "markdown",
      "metadata": {
        "id": "DHsUoKJhTYdY"
      },
      "source": [
        "### Tarea Probabilidad condicionada\n",
        "\n",
        "comparar los dos algoritmos en tiempo y precisión para la probabilidad condicionada, la parte anterior falta por compleemntar la probabilidad condicionada.\n",
        "\n",
        "\n",
        "\n",
        "```\n",
        "{f,a,c,d,g,l,m,p}\n",
        "{a,b,c,f,l,m,o}\n",
        "{b,f,h,j,o}\n",
        "{b,c,k,s,p}\n",
        "{a,f,c,e,l,p,m,n}\n",
        "\n",
        "```\n",
        "\n",
        "## Probabilidad Condicionada\n",
        "\n",
        "La **probabilidad condicionada** se define como la probabilidad de que ocurra un evento **A**, dado que ya ha ocurrido otro evento **B**. Se denota como **P(A | B)** y se calcula con la siguiente fórmula:  \n",
        "\n",
        "$$ P(A | B) = \\frac{P(A \\cap B)}{P(B)}$$\n",
        "\n",
        "### Explicación de la fórmula\n",
        "- **P(A | B)** → Probabilidad de que ocurra A dado que B ya ocurrió.  \n",
        "- **P(A ∩ B)** → Probabilidad de que A y B ocurran simultáneamente.  \n",
        "- **P(B)** → Probabilidad de que ocurra B (siempre que \\( P(B) > 0 \\)).  \n",
        "\n",
        "---\n"
      ]
    },
    {
      "cell_type": "code",
      "execution_count": null,
      "metadata": {
        "colab": {
          "base_uri": "https://localhost:8080/"
        },
        "id": "Pc1URTTF5woP",
        "outputId": "fbe447f0-cb5c-4dd1-bee4-661aceec4910"
      },
      "outputs": [
        {
          "name": "stdout",
          "output_type": "stream",
          "text": [
            "Frecuencia de letras: {'f': 4, 'a': 3, 'c': 4, 'd': 1, 'g': 1, 'i': 1, 'm': 3, 'p': 3, 'b': 3, 'l': 2, 'o': 2, 'h': 1, 'j': 1, 'k': 1, 's': 1, 'e': 1, 'n': 1}\n",
            "Nuevos arreglos:[['f', 'a', 'c', 'm', 'p'], ['a', 'b', 'c', 'f', 'm'], ['b', 'f'], ['b', 'c', 'p'], ['a', 'f', 'c', 'p', 'm']]\n",
            "P(['m']/['a', 'c'])=1.0\n",
            "Tiempo de ejecución: 0.003655 segundos\n"
          ]
        }
      ],
      "source": [
        "# función para encontrar la probabilidad condicionada\n",
        "\n",
        "import time\n",
        "start_time = time.perf_counter()\n",
        "\n",
        "a=['f','a','c','d','g','i','m','p']\n",
        "b=['a','b','c','f','l','m','o']\n",
        "c=['b','f','h','j','o']\n",
        "d=['b','c','k','s','p']\n",
        "e=['a','f','c','e','l','p','m','n']\n",
        "\n",
        "#función que concatena todas las listas definidas para encontrar su frecuencia\n",
        "def concatenar(vec):\n",
        "  return [item for sublist in vec for item in sublist]\n",
        "\n",
        "union=concatenar([a,b,c,d,e])\n",
        "\n",
        "#se obtiene la frecuencia de aparición de cada letra dentro de los listados definidos\n",
        "counts={}\n",
        "for item in union:\n",
        "    counts[item] = counts.get(item, 0) + 1\n",
        "\n",
        "print('Frecuencia de letras: '+str(counts))\n",
        "\n",
        "#función que retorna el nuevo listado de palabras de acuerdo con su frecuencia de aparición\n",
        "def nueva_lista(lista,delta):\n",
        "  nueva_lista=[]\n",
        "  for i in range(len(lista)):\n",
        "    if counts[lista[i]]>delta:\n",
        "      nueva_lista.append(lista[i])\n",
        "  return nueva_lista\n",
        "\n",
        "a1=nueva_lista(a,2)\n",
        "b1=nueva_lista(b,2)\n",
        "c1=nueva_lista(c,2)\n",
        "d1=nueva_lista(d,2)\n",
        "e1=nueva_lista(e,2)\n",
        "\n",
        "listado=[a1,b1,c1,d1,e1]\n",
        "\n",
        "print(\"Nuevos arreglos:\"+str(listado))\n",
        "\n",
        "#función que retorna la 'probabilidad' o cuenta de aparición de cada letra o conjunto de letras\n",
        "def prob(letras,listado):\n",
        "  cuenta=0\n",
        "  for i in range(len(listado)):\n",
        "    res=all(item in listado[i] for item in letras)\n",
        "    if res:\n",
        "      cuenta+=1\n",
        "  return cuenta\n",
        "\n",
        "#probabilidad condicionada\n",
        "numerador=['m']\n",
        "denominador=['a','c']\n",
        "\n",
        "print(\"P(\"+str(numerador)+'/'+str(denominador)+')='+str(prob(numerador+denominador,listado)/prob(denominador,listado)))\n",
        "\n",
        "\n",
        "end_time = time.perf_counter()\n",
        "elapsed_time = end_time - start_time\n",
        "print(f\"Tiempo de ejecución: {elapsed_time:.6f} segundos\")"
      ]
    }
  ],
  "metadata": {
    "colab": {
      "authorship_tag": "ABX9TyMSjvGhJKyJAlf0TQ3LI1Bd",
      "mount_file_id": "https://github.com/ivankarrillin/ML_Doc/blob/main/reto_palabras.ipynb",
      "provenance": []
    },
    "kernelspec": {
      "display_name": "Python 3",
      "name": "python3"
    },
    "language_info": {
      "name": "python"
    }
  },
  "nbformat": 4,
  "nbformat_minor": 0
}
