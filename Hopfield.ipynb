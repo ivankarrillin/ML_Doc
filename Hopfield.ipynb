{
  "cells": [
    {
      "cell_type": "markdown",
      "metadata": {
        "id": "ceghdujIQ708"
      },
      "source": [
        "## Red de Hopfield"
      ]
    },
    {
      "cell_type": "code",
      "execution_count": null,
      "metadata": {
        "id": "yqYmFsvZRkzc"
      },
      "outputs": [],
      "source": [
        "import numpy as np\n",
        "\n",
        "\n",
        "matriz_distancias=np.array([\n",
        "    [0,5,5,6,4],\n",
        "    [5,0,3,7,6],\n",
        "    [5,3,0,4,8],\n",
        "    [6,7,4,0,5],\n",
        "    [4,6,8,5,0]\n",
        " ])\n",
        "\n"
      ]
    }
  ],
  "metadata": {
    "colab": {
      "authorship_tag": "ABX9TyMSjvGhJKyJAlf0TQ3LI1Bd",
      "mount_file_id": "https://github.com/ivankarrillin/ML_Doc/blob/main/reto_palabras.ipynb",
      "provenance": []
    },
    "kernelspec": {
      "display_name": "Python 3",
      "name": "python3"
    },
    "language_info": {
      "name": "python"
    }
  },
  "nbformat": 4,
  "nbformat_minor": 0
}
