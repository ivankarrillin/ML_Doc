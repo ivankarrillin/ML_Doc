{
  "cells": [
    {
      "cell_type": "markdown",
      "metadata": {
        "id": "WXLV8C0M1k_N"
      },
      "source": [
        "# Ejercicio - Reto Palabras\n",
        "\n",
        "Ejercicio con el reto de palabras en Python, toma de un fichero las 5.000 palabras más frecuentes en el idioma español y encuentra la frecuencia en la terminación de la palabra que da el usuario."
      ]
    },
    {
      "cell_type": "code",
      "execution_count": null,
      "metadata": {
        "colab": {
          "base_uri": "https://localhost:8080/"
        },
        "id": "ZeUXZGeMIzXN",
        "outputId": "3450d1e3-7682-4629-f199-87cac50d399d"
      },
      "outputs": [
        {
          "name": "stdout",
          "output_type": "stream",
          "text": [
            "115\n"
          ]
        }
      ],
      "source": [
        "#variable que guarda el archivo de texto\n",
        "texto=[]\n",
        "\n",
        "#lectura del archivo\n",
        "with open('5000_palabras_comunes.txt', 'r') as archivo:\n",
        "    for linea in archivo:\n",
        "        texto.append(linea.strip())\n",
        "\n",
        "\n",
        "# función para encontrar la frecuencia de las palabras que terminan con una palabra dentro de las 5.000\n",
        "def rima(palabra):\n",
        "  k=0\n",
        "  coincide=[]\n",
        "  for i in range(len(texto)):\n",
        "    if(texto[i].endswith(palabra)):\n",
        "      k=k+1\n",
        "      coincide.append(texto[i])\n",
        "  if k==0:\n",
        "    #print(\"Sin coincidencias\")\n",
        "    return 0\n",
        "  else:\n",
        "    #print(coincide)\n",
        "    #print('Número de coincidencias: ',k)\n",
        "    return k\n",
        "\n",
        "# llamado de la función Rima que retorna la frecuencia de aparación de las palabras más frecuentes en su terminación contra las 5.000 palabras\n",
        "total=rima('ón')\n",
        "print(total)\n"
      ]
    },
    {
      "cell_type": "markdown",
      "metadata": {
        "id": "tL5ZvoR63nRe"
      },
      "source": [
        "## Algoritmo que encuentra las consonantes y vocales más frecuentes al terminar una palabra del español.\n",
        "\n",
        "Esta sección toma la función Rima creada anteriormente y la llama con vocales y consonantes aleatorias por pares, esto con el propósito de encontrar la combinación más frecuente."
      ]
    },
    {
      "cell_type": "code",
      "execution_count": null,
      "metadata": {
        "colab": {
          "base_uri": "https://localhost:8080/"
        },
        "id": "_2YL7Lf3V0DJ",
        "outputId": "2d726b5a-0464-4e18-a0c7-7dca2e43e2fd"
      },
      "outputs": [
        {
          "name": "stdout",
          "output_type": "stream",
          "text": [
            "['la', 'fe', 'ri', 'ow', 'bu', 'ec', 'ro', 'lu', 'ru', 'mi', 'ko', 'it', 'ew', 'ef', 'ej', 'wa', 'ah', 'ya', 'fi', 'mo', 'eh', 'in', 'ey', 'bo', 'fa', 'em', 'yi', 'gi', 'uf', 'ce', 'di', 'ak', 'qi', 'pa', 'ib', 'do', 'xa', 'te', 'ne', 'uh', 'ir', 'ga', 'uv', 'iw', 'hu', 'xi', 'vu', 'no', 'mu', 'im', 'ix', 'ba', 'ki', 'es', 'al', 'je', 'ke', 'ok', 'ho', 'ex', 'am', 'aw', 'av', 'qe', 'ja', 'co', 'pi', 'en', 'hi', 'wo', 'zu', 'uw', 'vi', 'od', 'go', 'uj', 'ur', 'il', 're', 'lo', 'ye', 'er', 'un', 'va', 'zo', 'tu', 'ci', 'so', 'de', 'po', 'ul', 'ax', 'ze', 'is', 'me', 'eg', 'as', 'he', 'cu', 'us', 'li', 'ig', 'uz', 'to', 'vo', 'oh', 'se', 'uc', 'iz', 'eb', 'qo', 'ed', 'ih', 'at', 'qu', 'yu', 'uq', 'ud', 'ka', 'on', 'iq', 'id', 'ek', 'fo', 'bi', 'da', 'ge', 'ep', 'ag', 'ip', 'ug', 'et', 'xo', 'up', 'ma', 'um', 'iv', 'ji', 'ov', 'za', 'ac', 'wu', 'oc', 'qa', 'gu', 'wi', 'ij', 'ik', 'si', 'ol', 'ay', 'sa', 'uk', 'ta', 'ap', 'ni', 'oj', 'oq', 'af', 'aj', 'om', 'ra', 'we', 'aq', 'el', 'an', 'ux', 'jo', 'oz', 'ar', 'pu', 'ha', 'op', 'du', 'iy', 'or', 'ti', 'ju', 'ub', 'ku', 'ot', 'le', 'og', 'xe', 'oy', 'pe', 'uy', 'ca', 'ob', 'fu', 'eq', 'be', 'os', 'ab', 've', 'xu', 'if', 'ox', 'ez', 'na', 'ad', 'of', 'ut', 'ic', 'su', 'az', 'nu', 'zi', 'ev', 'yo']\n",
            "    sufijos  coincidencias\n",
            "192      os            365\n",
            "35       do            304\n",
            "96       as            284\n",
            "37       te            253\n",
            "53       es            235\n",
            "..      ...            ...\n",
            "147      ik              0\n",
            "146      ij              0\n",
            "145      wi              0\n",
            "144      gu              0\n",
            "133      up              0\n",
            "\n",
            "[210 rows x 2 columns]\n"
          ]
        }
      ],
      "source": [
        "import random\n",
        "import pandas as pd\n",
        "\n",
        "terminacion=[]\n",
        "sufijo=['']\n",
        "coincidencias=[]\n",
        "\n",
        "data = {'terminación': terminacion,\n",
        "        'coincidencias': coincidencias}\n",
        "\n",
        "#función aleatoria que retorna dos juegos de letras (una vocal y una consonante o viceversa)\n",
        "def letra_y_vocal():\n",
        "    consonantes = \"bcdfghjklmnpqrstvwxyz\"\n",
        "    vocales = \"aeiou\"\n",
        "\n",
        "    letra = random.choice(consonantes)\n",
        "    vocal = random.choice(vocales)\n",
        "\n",
        "    opciones = [1, 2]\n",
        "    if random.choice(opciones)==1:\n",
        "      return letra+vocal\n",
        "    else:\n",
        "      return vocal+letra\n",
        "\n",
        "for i in range(1000):\n",
        "  element=letra_y_vocal()\n",
        "  if element not in terminacion:\n",
        "    terminacion.append(element)\n",
        "\n",
        "\n",
        "for i in range(len(terminacion)):\n",
        "  sub=rima(terminacion[i])\n",
        "  coincidencias.append(sub)\n",
        "\n",
        "\n",
        "df = pd.DataFrame(data)\n",
        "\n",
        "ordenado=df.sort_values(by=['coincidencias'],ascending=False)\n",
        "\n",
        "print(coincidencias)\n",
        "print(ordenado)\n"
      ]
    }
  ],
  "metadata": {
    "colab": {
      "authorship_tag": "ABX9TyMSjvGhJKyJAlf0TQ3LI1Bd",
      "mount_file_id": "https://github.com/ivankarrillin/ML_Doc/blob/main/reto_palabras.ipynb",
      "provenance": []
    },
    "kernelspec": {
      "display_name": "Python 3",
      "name": "python3"
    },
    "language_info": {
      "name": "python"
    }
  },
  "nbformat": 4,
  "nbformat_minor": 0
}
