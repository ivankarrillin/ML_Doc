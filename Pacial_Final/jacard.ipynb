{
 "cells": [
  {
   "cell_type": "markdown",
   "metadata": {},
   "source": [
    "## Clasificador ponderado Jacard\n"
   ]
  },
  {
   "cell_type": "code",
   "execution_count": 10,
   "metadata": {},
   "outputs": [
    {
     "data": {
      "text/plain": [
       "0.5"
      ]
     },
     "execution_count": 10,
     "metadata": {},
     "output_type": "execute_result"
    }
   ],
   "source": [
    "conjunto_1=[\"teoria_numeros\",\"logica\",\"probabilidad\"]\n",
    "conjunto_2=[\"logica\",\"algebra\",\"probabilidad\"]\n",
    "\n",
    "\n",
    "def similitud_jaccard(conjunto_1, conjunto_2):\n",
    "    conta=0\n",
    "    for elemento_1 in conjunto_1:\n",
    "        for elemento_2 in conjunto_2:\n",
    "            if elemento_1==elemento_2:\n",
    "                conta=conta+1\n",
    "                break;\n",
    "    union=conjunto_1\n",
    "\n",
    "    for k in conjunto_2:\n",
    "        conta_u=0\n",
    "        for j in union:\n",
    "            if j==k:\n",
    "                conta_u=conta_u+1\n",
    "        if conta_u==0:\n",
    "            union.append(k)\n",
    "    \n",
    "    if len(union)>0:\n",
    "        return conta/len(union)\n",
    "    else:\n",
    "        return 0\n",
    "\n",
    "similitud_jaccard(conjunto_1,conjunto_2)"
   ]
  },
  {
   "cell_type": "code",
   "execution_count": 47,
   "metadata": {},
   "outputs": [
    {
     "data": {
      "text/plain": [
       "'Ingeniería'"
      ]
     },
     "execution_count": 47,
     "metadata": {},
     "output_type": "execute_result"
    }
   ],
   "source": [
    "import pandas as pd\n",
    "\n",
    "conjunto_a = {\n",
    "    \"carrera\": [\n",
    "        \"Ingeniería\",\n",
    "        \"Ingeniería\",\n",
    "        \"Psicología\",\n",
    "        \"Psicología\",\n",
    "        \"Matemáticas\",\n",
    "        \"Matemáticas\"\n",
    "    ],\n",
    "    \"resultados\": [\n",
    "        {\"lógica\", \"álgebra\", \"funciones\", \"pensamiento_analítico\"},\n",
    "        {\"estadística\", \"álgebra\", \"lógica\", \"probabilidad\"},\n",
    "        {\"empatía\", \"comunicación\", \"trabajo_en_equipo\"},\n",
    "        {\"lectura\", \"participación\", \"expresión_oral\"},\n",
    "        {\"resolución_problemas\", \"abstracción\", \"cálculo\"},\n",
    "        {\"teoría_números\", \"lógica\", \"probabilidad\"}\n",
    "    ]\n",
    "}\n",
    "\n",
    "conjunto_b=[\"lógica\",\"álgebra\",\"probabilidad\"]\n",
    "\n",
    "\n",
    "\n",
    "\n",
    "def votacion_ponderada(conjunto_a,conjunto_b):\n",
    "\n",
    "    data_1 = pd.DataFrame(conjunto_a)\n",
    "\n",
    "    carrera_unica=data_1[\"carrera\"].unique()\n",
    "\n",
    "    prediccion=[0]\n",
    "    conta_final=0\n",
    "\n",
    "    for k in carrera_unica:\n",
    "        datos=data_1[data_1[\"carrera\"]==k]\n",
    "        conta=0\n",
    "        for index, row in datos.iterrows():\n",
    "           sub=list(row[\"resultados\"])\n",
    "           similitud=similitud_jaccard(sub,conjunto_b)\n",
    "   \n",
    "           conta=conta+similitud\n",
    "        \n",
    "        if conta_final<conta:\n",
    "            conta_final=conta\n",
    "            prediccion[0]=k\n",
    "        \n",
    "    if prediccion != None:\n",
    "        return prediccion[0]\n",
    "    else:\n",
    "        return \"No se pudo realizar\"\n",
    "\n",
    "votacion_ponderada(conjunto_a,conjunto_b)\n",
    "\n",
    "\n"
   ]
  }
 ],
 "metadata": {
  "kernelspec": {
   "display_name": "Python 3",
   "language": "python",
   "name": "python3"
  },
  "language_info": {
   "codemirror_mode": {
    "name": "ipython",
    "version": 3
   },
   "file_extension": ".py",
   "mimetype": "text/x-python",
   "name": "python",
   "nbconvert_exporter": "python",
   "pygments_lexer": "ipython3",
   "version": "3.12.0"
  }
 },
 "nbformat": 4,
 "nbformat_minor": 2
}
