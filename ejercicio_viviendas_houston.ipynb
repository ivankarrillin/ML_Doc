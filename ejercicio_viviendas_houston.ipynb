{
 "cells": [
  {
   "cell_type": "markdown",
   "metadata": {},
   "source": [
    "### Ejercicio de predicción de precio de bienes inmuebles en Houston \n",
    "\n",
    "Este ejercicio es propuesto por el compañero Diego:\n",
    "\n",
    "Base de datos: Boston Housing Dataset (506 muestras, 13 características, variable objetivo numérica).\n",
    "\n",
    "https://www.cs.toronto.edu/~delve/data/boston/bostonDetail.html\n",
    "\n",
    "Objetivo: Entrenar una red neuronal para predecir el precio medio de viviendas en Boston (en miles de dólares).\n",
    "Pasos a Seguir: Cargar datos: Usar el dataset de Boston Housing integrado en tensorflow o sklearn.\n",
    "Preprocesamiento:\n",
    "Normalizar las características (media=0, desviación=1).\n",
    "Dividir los datos en entrenamiento (80%) y prueba (20%).\n",
    "Construir el modelo:\n",
    "Capa de entrada: 13 neuronas (1 por cada característica).\n",
    "Capa oculta: 64 neuronas con activación ReLU.\n",
    "Capa de salida: 1 neurona (sin activación, ya que es regresión).\n",
    "Compilar: Usar el optimizador Adam y pérdida Mean Squared Error (MSE).\n",
    "Entrenar: 100 épocas con un 20% de los datos para validación.\n",
    "Evaluar: Calcular el error cuadrático medio (MSE) en el conjunto de prueba.\n",
    "Predicción: Predecir el precio de una muestra de ejemplo."
   ]
  },
  {
   "cell_type": "code",
   "execution_count": 3,
   "metadata": {},
   "outputs": [
    {
     "name": "stdout",
     "output_type": "stream",
     "text": [
      "Collecting polars\n",
      "  Obtaining dependency information for polars from https://files.pythonhosted.org/packages/e3/0a/5c9455ff271c3583bf0fd505911e5787ca7bc0f247968853cb6dcfbedffb/polars-1.26.0-cp39-abi3-macosx_11_0_arm64.whl.metadata\n",
      "  Downloading polars-1.26.0-cp39-abi3-macosx_11_0_arm64.whl.metadata (14 kB)\n",
      "Downloading polars-1.26.0-cp39-abi3-macosx_11_0_arm64.whl (31.6 MB)\n",
      "\u001b[2K   \u001b[90m━━━━━━━━━━━━━━━━━━━━━━━━━━━━━━━━━━━━━━━━\u001b[0m \u001b[32m31.6/31.6 MB\u001b[0m \u001b[31m8.7 MB/s\u001b[0m eta \u001b[36m0:00:00\u001b[0m00:01\u001b[0m00:01\u001b[0mm\n",
      "\u001b[?25hInstalling collected packages: polars\n",
      "Successfully installed polars-1.26.0\n",
      "\n",
      "\u001b[1m[\u001b[0m\u001b[34;49mnotice\u001b[0m\u001b[1;39;49m]\u001b[0m\u001b[39;49m A new release of pip is available: \u001b[0m\u001b[31;49m23.2.1\u001b[0m\u001b[39;49m -> \u001b[0m\u001b[32;49m25.0.1\u001b[0m\n",
      "\u001b[1m[\u001b[0m\u001b[34;49mnotice\u001b[0m\u001b[1;39;49m]\u001b[0m\u001b[39;49m To update, run: \u001b[0m\u001b[32;49mpip install --upgrade pip\u001b[0m\n",
      "Note: you may need to restart the kernel to use updated packages.\n"
     ]
    }
   ],
   "source": [
    "!pip install polars"
   ]
  },
  {
   "cell_type": "code",
   "execution_count": 4,
   "metadata": {},
   "outputs": [
    {
     "name": "stdout",
     "output_type": "stream",
     "text": [
      "shape: (5, 14)\n",
      "┌─────────┬──────┬───────┬──────┬───┬─────────┬────────┬───────┬──────┐\n",
      "│ crim    ┆ zn   ┆ indus ┆ chas ┆ … ┆ ptratio ┆ b      ┆ lstat ┆ medv │\n",
      "│ ---     ┆ ---  ┆ ---   ┆ ---  ┆   ┆ ---     ┆ ---    ┆ ---   ┆ ---  │\n",
      "│ f64     ┆ f64  ┆ f64   ┆ i64  ┆   ┆ f64     ┆ f64    ┆ f64   ┆ f64  │\n",
      "╞═════════╪══════╪═══════╪══════╪═══╪═════════╪════════╪═══════╪══════╡\n",
      "│ 0.00632 ┆ 18.0 ┆ 2.31  ┆ 0    ┆ … ┆ 15.3    ┆ 396.9  ┆ 4.98  ┆ 24.0 │\n",
      "│ 0.02731 ┆ 0.0  ┆ 7.07  ┆ 0    ┆ … ┆ 17.8    ┆ 396.9  ┆ 9.14  ┆ 21.6 │\n",
      "│ 0.02729 ┆ 0.0  ┆ 7.07  ┆ 0    ┆ … ┆ 17.8    ┆ 392.83 ┆ 4.03  ┆ 34.7 │\n",
      "│ 0.03237 ┆ 0.0  ┆ 2.18  ┆ 0    ┆ … ┆ 18.7    ┆ 394.63 ┆ 2.94  ┆ 33.4 │\n",
      "│ 0.06905 ┆ 0.0  ┆ 2.18  ┆ 0    ┆ … ┆ 18.7    ┆ 396.9  ┆ 5.33  ┆ 36.2 │\n",
      "└─────────┴──────┴───────┴──────┴───┴─────────┴────────┴───────┴──────┘\n"
     ]
    }
   ],
   "source": [
    "import polars as pl\n",
    "\n",
    "df = pl.read_csv(\"https://raw.githubusercontent.com/selva86/datasets/master/BostonHousing.csv\")  \n",
    "print(df.head())  "
   ]
  },
  {
   "cell_type": "code",
   "execution_count": null,
   "metadata": {},
   "outputs": [],
   "source": []
  }
 ],
 "metadata": {
  "kernelspec": {
   "display_name": "Python 3",
   "language": "python",
   "name": "python3"
  },
  "language_info": {
   "codemirror_mode": {
    "name": "ipython",
    "version": 3
   },
   "file_extension": ".py",
   "mimetype": "text/x-python",
   "name": "python",
   "nbconvert_exporter": "python",
   "pygments_lexer": "ipython3",
   "version": "3.12.0"
  }
 },
 "nbformat": 4,
 "nbformat_minor": 2
}
